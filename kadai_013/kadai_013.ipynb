{
  "nbformat": 4,
  "nbformat_minor": 0,
  "metadata": {
    "colab": {
      "provenance": []
    },
    "kernelspec": {
      "name": "python3",
      "display_name": "Python 3"
    },
    "language_info": {
      "name": "python"
    }
  },
  "cells": [
    {
      "cell_type": "code",
      "execution_count": 17,
      "metadata": {
        "colab": {
          "base_uri": "https://localhost:8080/"
        },
        "id": "JYKp1tKYgmCQ",
        "outputId": "48e25b97-d9de-4499-d971-9029cc74c7d6"
      },
      "outputs": [
        {
          "output_type": "execute_result",
          "data": {
            "text/plain": [
              "1100.0"
            ]
          },
          "metadata": {},
          "execution_count": 17
        }
      ],
      "source": [
        "def add_tax(price ,tax):\n",
        "  total = price * tax\n",
        "  return total\n",
        "\n",
        "add_tax(1000,1.1)\n",
        "\n",
        "\n",
        "\n"
      ]
    }
  ]
}