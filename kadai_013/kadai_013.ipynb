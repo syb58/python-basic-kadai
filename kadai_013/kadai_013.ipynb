{
  "nbformat": 4,
  "nbformat_minor": 0,
  "metadata": {
    "colab": {
      "provenance": []
    },
    "kernelspec": {
      "name": "python3",
      "display_name": "Python 3"
    },
    "language_info": {
      "name": "python"
    }
  },
  "cells": [
    {
      "cell_type": "code",
      "execution_count": 9,
      "metadata": {
        "colab": {
          "base_uri": "https://localhost:8080/"
        },
        "id": "JYKp1tKYgmCQ",
        "outputId": "4f5b88ec-1624-4624-ddb4-f5a893f63a0d"
      },
      "outputs": [
        {
          "output_type": "stream",
          "name": "stdout",
          "text": [
            "税込み1100.0円\n"
          ]
        }
      ],
      "source": [
        "def add_tax(price,tax):\n",
        "  total = price * tax\n",
        "  print(f\"税込み{total}円\")\n",
        "\n",
        "add_tax(1000,1.1)"
      ]
    }
  ]
}