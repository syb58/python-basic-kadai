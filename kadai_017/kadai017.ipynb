{
  "nbformat": 4,
  "nbformat_minor": 0,
  "metadata": {
    "colab": {
      "provenance": []
    },
    "kernelspec": {
      "name": "python3",
      "display_name": "Python 3"
    },
    "language_info": {
      "name": "python"
    }
  },
  "cells": [
    {
      "cell_type": "code",
      "execution_count": 128,
      "metadata": {
        "colab": {
          "base_uri": "https://localhost:8080/"
        },
        "id": "EjNX-haMiq-8",
        "outputId": "141dc2c6-0a68-46e4-ace8-d1029b63a17a"
      },
      "outputs": [
        {
          "output_type": "stream",
          "name": "stdout",
          "text": [
            "しょうぶは20歳で大人です\n",
            "ほしは12歳で大人ではありません\n"
          ]
        }
      ],
      "source": [
        "class Human:\n",
        "  def __init__(self,name,age):\n",
        "    self.name = name\n",
        "    self.age = age\n",
        "\n",
        "  def check_adult(self):\n",
        "    if self.age >= 20 :\n",
        "      print(f\"{self.name}は{self.age}歳で大人です\")\n",
        "    else :\n",
        "      print(f\"{self.name}は{self.age}歳で大人ではありません\")\n",
        "\n",
        "shob = Human(\"しょうぶ\",20)\n",
        "hoshi = Human(\"ほし\",12)\n",
        "persons = [shob,hoshi]\n",
        "\n",
        "for person in persons:\n",
        "  person.check_adult()\n",
        "\n"
      ]
    }
  ]
}